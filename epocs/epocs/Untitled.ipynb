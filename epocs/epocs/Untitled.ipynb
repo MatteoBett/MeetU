{
 "cells": [
  {
   "cell_type": "code",
   "execution_count": 1,
   "id": "fb1a87c0-0d1e-4557-a7be-72a03a4be540",
   "metadata": {},
   "outputs": [],
   "source": [
    "import os"
   ]
  },
  {
   "cell_type": "code",
   "execution_count": 2,
   "id": "d38bee2f-fea9-4832-b81c-2d1de9f261b3",
   "metadata": {},
   "outputs": [
    {
     "name": "stdout",
     "output_type": "stream",
     "text": [
      "/shared/ifbstor1/projects/2428_meet_eu/matteo/epocs/epocs\n"
     ]
    }
   ],
   "source": [
    "print(os.getcwd())"
   ]
  },
  {
   "cell_type": "code",
   "execution_count": 1,
   "id": "755bef0f-141e-4682-84b7-d543d50a47af",
   "metadata": {},
   "outputs": [],
   "source": [
    "import numpy as np"
   ]
  },
  {
   "cell_type": "code",
   "execution_count": 3,
   "id": "622e8c79-5cf9-4577-b849-bc5201303f65",
   "metadata": {},
   "outputs": [],
   "source": [
    "data = np.load(r'/shared/projects/2428_meet_eu/matteo/epocs/tmp/distance_matrix.npz')"
   ]
  },
  {
   "cell_type": "code",
   "execution_count": 4,
   "id": "0437b22f-f2a5-4c61-aeb0-93730cf7e600",
   "metadata": {},
   "outputs": [
    {
     "data": {
      "text/plain": [
       "NpzFile '/shared/projects/2428_meet_eu/matteo/epocs/tmp/distance_matrix.npz' with keys: arr_0"
      ]
     },
     "execution_count": 4,
     "metadata": {},
     "output_type": "execute_result"
    }
   ],
   "source": [
    "data"
   ]
  },
  {
   "cell_type": "code",
   "execution_count": 11,
   "id": "e8d858a3-b801-44bf-828f-3cc5a3d4254d",
   "metadata": {},
   "outputs": [
    {
     "name": "stdout",
     "output_type": "stream",
     "text": [
      "['arr_0']\n",
      "(33, 33)\n"
     ]
    }
   ],
   "source": [
    "lst = data.files\n",
    "print(lst)\n",
    "print(data[lst[0]].shape)\n"
   ]
  },
  {
   "cell_type": "code",
   "execution_count": 16,
   "id": "c33fee03-1aa8-48d8-bd62-b8d35c50e297",
   "metadata": {},
   "outputs": [
    {
     "data": {
      "text/plain": [
       "['arr_0']"
      ]
     },
     "execution_count": 16,
     "metadata": {},
     "output_type": "execute_result"
    }
   ],
   "source": [
    "list(data.keys())"
   ]
  },
  {
   "cell_type": "code",
   "execution_count": null,
   "id": "8913c5f5-369d-4f04-abbf-bbcd1b595e72",
   "metadata": {},
   "outputs": [],
   "source": []
  }
 ],
 "metadata": {
  "kernelspec": {
   "display_name": "Python 3.12",
   "language": "python",
   "name": "python3"
  },
  "language_info": {
   "codemirror_mode": {
    "name": "ipython",
    "version": 3
   },
   "file_extension": ".py",
   "mimetype": "text/x-python",
   "name": "python",
   "nbconvert_exporter": "python",
   "pygments_lexer": "ipython3",
   "version": "3.12.4"
  }
 },
 "nbformat": 4,
 "nbformat_minor": 5
}
